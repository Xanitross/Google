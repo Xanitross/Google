{
  "nbformat": 4,
  "nbformat_minor": 0,
  "metadata": {
    "colab": {
      "provenance": [],
      "authorship_tag": "ABX9TyP2ovLPRT+Oweb8ESJUaaeD",
      "include_colab_link": true
    },
    "kernelspec": {
      "name": "python3",
      "display_name": "Python 3"
    },
    "language_info": {
      "name": "python"
    }
  },
  "cells": [
    {
      "cell_type": "markdown",
      "metadata": {
        "id": "view-in-github",
        "colab_type": "text"
      },
      "source": [
        "<a href=\"https://colab.research.google.com/github/Xanitross/Google/blob/main/Value_Swapping.ipynb\" target=\"_parent\"><img src=\"https://colab.research.google.com/assets/colab-badge.svg\" alt=\"Open In Colab\"/></a>"
      ]
    },
    {
      "cell_type": "markdown",
      "source": [
        "Swap the values of A and B"
      ],
      "metadata": {
        "id": "pduy_cIojdDV"
      }
    },
    {
      "cell_type": "code",
      "execution_count": 2,
      "metadata": {
        "colab": {
          "base_uri": "https://localhost:8080/"
        },
        "id": "Lntxtvc_jXF_",
        "outputId": "d92d9a78-61ad-4386-db14-2c526da22060"
      },
      "outputs": [
        {
          "output_type": "stream",
          "name": "stdout",
          "text": [
            "a: 5\n",
            "b: 3\n"
          ]
        }
      ],
      "source": [
        "a = 3\n",
        "b = 5\n",
        "\n",
        "c = a\n",
        "a = b\n",
        "b = c\n",
        "\n",
        "print (\"a:\", a)\n",
        "print (\"b:\", b)"
      ]
    },
    {
      "cell_type": "markdown",
      "source": [
        "Now do it without adding any variables:"
      ],
      "metadata": {
        "id": "oO5PIFTTlbvN"
      }
    },
    {
      "cell_type": "code",
      "source": [
        "import random\n",
        "\n",
        "a = random.randint(-100, 100)\n",
        "b = random.randint(-100, 100)\n",
        "\n",
        "#Starting positions, since these are random\n",
        "print (\"a start:\", a)\n",
        "print (\"b start:\", b)\n",
        "\n",
        "if a > b:\n",
        "  for i in range(a-b):\n",
        "    a -= 1\n",
        "    b += 1\n",
        "else:\n",
        "  for i in range(b-a):\n",
        "    a += 1\n",
        "    b -= 1\n",
        "\n",
        "\n",
        "print (\"a:\", a)\n",
        "print (\"b:\", b)"
      ],
      "metadata": {
        "id": "G9yYBUuZlgrP"
      },
      "execution_count": null,
      "outputs": []
    }
  ]
}