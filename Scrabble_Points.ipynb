{
  "nbformat": 4,
  "nbformat_minor": 0,
  "metadata": {
    "colab": {
      "provenance": [],
      "authorship_tag": "ABX9TyP57vWi3bnErdneLx+svkx5",
      "include_colab_link": true
    },
    "kernelspec": {
      "name": "python3",
      "display_name": "Python 3"
    },
    "language_info": {
      "name": "python"
    }
  },
  "cells": [
    {
      "cell_type": "markdown",
      "metadata": {
        "id": "view-in-github",
        "colab_type": "text"
      },
      "source": [
        "<a href=\"https://colab.research.google.com/github/Xanitross/Google/blob/main/Scrabble_Points.ipynb\" target=\"_parent\"><img src=\"https://colab.research.google.com/assets/colab-badge.svg\" alt=\"Open In Colab\"/></a>"
      ]
    },
    {
      "cell_type": "markdown",
      "source": [
        "\"Write a program that takes a word and outputs its Scrabble score\""
      ],
      "metadata": {
        "id": "SJMfY2S4I9vn"
      }
    },
    {
      "cell_type": "code",
      "execution_count": null,
      "metadata": {
        "id": "vIRWy1bRI6hl"
      },
      "outputs": [],
      "source": [
        "def score(word):\n",
        "  total = 0\n",
        "  #ensure that the case matches the dictionary\n",
        "  word = word.lower()\n",
        "  #scrabble points per letter\n",
        "  points = {\"a\" : 1, \"e\" : 1, \"i\" : 1, \"o\" : 1, \"u\" : 1, \"l\" : 1, \"n\" : 1, \n",
        "            \"s\" : 1, \"t\" : 1, \"r\" : 1, \"d\" : 2, \"g\" : 2, \"b\" : 3, \"c\" : 3, \n",
        "            \"m\" : 3, \"p\" : 3, \"f\" : 4, \"h\" : 4, \"v\" : 4, \"w\" : 4, \"y\" : 4,\n",
        "            \"k\" : 5, \"j\" : 8, \"x\" : 8, \"z\" : 10, \"q\" : 10}\n",
        "\n",
        "  for letter in word:\n",
        "    total += points[letter]\n",
        "  return total\n",
        "\n",
        "print (score(\"Scrabble\"))"
      ]
    },
    {
      "cell_type": "markdown",
      "source": [
        "Alternate method to accomplish without dictionary"
      ],
      "metadata": {
        "id": "Bdu68KDEVwMy"
      }
    },
    {
      "cell_type": "code",
      "source": [
        "def score(word):\n",
        "  total = 0\n",
        "  word = word.lower()\n",
        "  T7 = [\"z\", \"q\"]\n",
        "  T6 = [\"j\", \"x\"]\n",
        "  T4 = [\"f\", \"h\", \"v\", \"w\", \"y\"]\n",
        "  T3 = [\"b\", \"c\", \"m\", \"p\"]\n",
        "  T2 = [\"d\", \"g\"]\n",
        "  T1 = [\"a\", \"e\", \"i\", \"o\", \"u\", \"l\", \"n\", \"s\", \"t\", \"r\"]\n",
        "  for letter in word:\n",
        "    if letter in T7:\n",
        "      total += 10\n",
        "    if letter in T6:\n",
        "      total += 8\n",
        "    if letter == \"k\":\n",
        "      total += 5\n",
        "    if letter in T4:\n",
        "      total += 4\n",
        "    if letter in T3:\n",
        "      total += 3\n",
        "    if letter in T2:\n",
        "      total += 2\n",
        "    if letter in T1:\n",
        "      total += 1\n",
        "  return total\n",
        "  \n",
        "print (\"Point Total is:\", score(\"Scrabble\"))"
      ],
      "metadata": {
        "id": "7D5CqKUFeX_D"
      },
      "execution_count": null,
      "outputs": []
    }
  ]
}