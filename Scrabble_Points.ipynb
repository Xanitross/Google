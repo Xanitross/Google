{
  "nbformat": 4,
  "nbformat_minor": 0,
  "metadata": {
    "colab": {
      "provenance": [],
      "authorship_tag": "ABX9TyPtYy0d/ZrmMT9D6oYGOHt+",
      "include_colab_link": true
    },
    "kernelspec": {
      "name": "python3",
      "display_name": "Python 3"
    },
    "language_info": {
      "name": "python"
    }
  },
  "cells": [
    {
      "cell_type": "markdown",
      "metadata": {
        "id": "view-in-github",
        "colab_type": "text"
      },
      "source": [
        "<a href=\"https://colab.research.google.com/github/Xanitross/Google/blob/main/Scrabble_Points.ipynb\" target=\"_parent\"><img src=\"https://colab.research.google.com/assets/colab-badge.svg\" alt=\"Open In Colab\"/></a>"
      ]
    },
    {
      "cell_type": "markdown",
      "source": [
        "\"Write a program that takes a word and outputs its Scrabble score\""
      ],
      "metadata": {
        "id": "SJMfY2S4I9vn"
      }
    },
    {
      "cell_type": "code",
      "execution_count": null,
      "metadata": {
        "id": "vIRWy1bRI6hl"
      },
      "outputs": [],
      "source": [
        "def score(word):\n",
        "  total = 0\n",
        "  #ensure that the case matches the dictionary\n",
        "  word = word.lower()\n",
        "  #scrabble points per letter\n",
        "  points = {\"a\" : 1, \"e\" : 1, \"i\" : 1, \"o\" : 1, \"u\" : 1, \"l\" : 1, \"n\" : 1, \n",
        "            \"s\" : 1, \"t\" : 1, \"r\" : 1, \"d\" : 2, \"g\" : 2, \"b\" : 3, \"c\" : 3, \n",
        "            \"m\" : 3, \"p\" : 3, \"f\" : 4, \"h\" : 4, \"v\" : 4, \"w\" : 4, \"y\" : 4,\n",
        "            \"k\" : 5, \"j\" : 8, \"x\" : 8, \"z\" : 10, \"q\" : 10}\n",
        "\n",
        "  for letter in word:\n",
        "    total += points[letter]\n",
        "  return total\n",
        "\n",
        "print (score(\"Scrabble\"))"
      ]
    }
  ]
}